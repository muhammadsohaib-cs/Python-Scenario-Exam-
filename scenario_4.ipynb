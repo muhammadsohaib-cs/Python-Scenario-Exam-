{
 "cells": [
  {
   "cell_type": "code",
   "execution_count": 5,
   "id": "c9990a31-08ba-4779-a232-66a93c49f801",
   "metadata": {},
   "outputs": [
    {
     "name": "stdout",
     "output_type": "stream",
     "text": [
      "DEBUGGING PYTHON SCRIPT\n"
     ]
    }
   ],
   "source": [
    "print(\"DEBUGGING PYTHON SCRIPT\")"
   ]
  },
  {
   "cell_type": "code",
   "execution_count": 6,
   "id": "33498776-7cc4-4f94-8919-68a29ea3ff50",
   "metadata": {},
   "outputs": [],
   "source": [
    "def perform_operations(numbers):\n",
    "    \"\"\"\n",
    "    Performs basic mathematical operations on a list of numbers.\n",
    "    Calculates: total (sum), product, and average\n",
    "    \"\"\"\n",
    "    total = 0\n",
    "    product = 1\n",
    "    \n",
    "    for num in numbers:\n",
    "        total += num      # Fixed: Added proper indentation\n",
    "        product *= num    # Fixed: Added proper indentation\n",
    "    \n",
    "    average = total / len(numbers)  # Fixed: Added proper indentation\n",
    "    \n",
    "    # Fixed: Added return statement\n",
    "    return total, product, average"
   ]
  },
  {
   "cell_type": "code",
   "execution_count": 8,
   "id": "5a2006e8-fbea-453a-b247-24d7cd3c8905",
   "metadata": {},
   "outputs": [
    {
     "name": "stdout",
     "output_type": "stream",
     "text": [
      "\n",
      " Testing with list: [1, 2, 3, 4, 5]\n",
      "\n",
      "Total: 15\n",
      "Product: 120\n",
      "Average: 3.0\n",
      "CODE SUCCESSFULLY DEBUGGED!\n"
     ]
    }
   ],
   "source": [
    "print(\"\\n Testing with list: [1, 2, 3, 4, 5]\\n\")\n",
    "\n",
    "test_numbers = [1, 2, 3, 4, 5]\n",
    "total, product, average = perform_operations(test_numbers)\n",
    "\n",
    "print(f\"Total: {total}\")\n",
    "print(f\"Product: {product}\")\n",
    "print(f\"Average: {average}\")\n",
    "\n",
    "\n",
    "print(\"CODE SUCCESSFULLY DEBUGGED!\")\n"
   ]
  },
  {
   "cell_type": "code",
   "execution_count": null,
   "id": "136c56fb-7f89-48ab-bd6e-a803af961862",
   "metadata": {},
   "outputs": [],
   "source": []
  }
 ],
 "metadata": {
  "kernelspec": {
   "display_name": "Python 3 (ipykernel)",
   "language": "python",
   "name": "python3"
  },
  "language_info": {
   "codemirror_mode": {
    "name": "ipython",
    "version": 3
   },
   "file_extension": ".py",
   "mimetype": "text/x-python",
   "name": "python",
   "nbconvert_exporter": "python",
   "pygments_lexer": "ipython3",
   "version": "3.13.5"
  }
 },
 "nbformat": 4,
 "nbformat_minor": 5
}
