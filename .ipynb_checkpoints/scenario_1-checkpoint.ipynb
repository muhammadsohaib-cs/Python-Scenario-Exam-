{
 "cells": [
  {
   "cell_type": "code",
   "execution_count": 7,
   "id": "dfb96366-81e3-4251-96f0-8c30a7bc7bbb",
   "metadata": {},
   "outputs": [
    {
     "name": "stdout",
     "output_type": "stream",
     "text": [
      "Alice, 85\n",
      "Bob, 90\n",
      "Charlie, 75\n",
      "Dave, 82\n",
      "Eve, 95\n",
      "Frank, 78\n",
      "Grace, Invalid Grade\n",
      "\n"
     ]
    }
   ],
   "source": [
    "\n",
    "records_text = \"\"\"Alice, 85\n",
    "Bob, 90\n",
    "Charlie, 75\n",
    "Dave, 82\n",
    "Eve, 95\n",
    "Frank, 78\n",
    "Grace, Invalid Grade\n",
    "\"\"\"\n",
    "\n",
    "print(records_text)\n"
   ]
  },
  {
   "cell_type": "code",
   "execution_count": 8,
   "id": "e616a8e8-32d6-461c-8a83-555404e4f8ba",
   "metadata": {},
   "outputs": [
    {
     "name": "stdout",
     "output_type": "stream",
     "text": [
      "Valid Records: [('Alice', 85), ('Bob', 90), ('Charlie', 75), ('Dave', 82), ('Eve', 95), ('Frank', 78)]\n",
      "Invalid Records: [('Grace', 'Invalid Grade')]\n"
     ]
    }
   ],
   "source": [
    "valid_entries = []\n",
    "invalid_entries = []\n",
    "\n",
    "for line in records_text.splitlines():\n",
    "    line = line.strip()\n",
    "    if not line:\n",
    "        continue\n",
    "    parts = [p.strip() for p in line.split(\",\", 1)]\n",
    "    if len(parts) != 2:\n",
    "        invalid_entries.append((line, \"format error\"))\n",
    "        continue\n",
    "    \n",
    "    name, grade_str = parts\n",
    "    try:\n",
    "        grade = int(grade_str)\n",
    "        valid_entries.append((name, grade))\n",
    "    except ValueError:\n",
    "        invalid_entries.append((name, grade_str))\n",
    "\n",
    "print(\"Valid Records:\", valid_entries)\n",
    "print(\"Invalid Records:\", invalid_entries)\n"
   ]
  },
  {
   "cell_type": "code",
   "execution_count": 9,
   "id": "f95e6455-16be-4bba-b294-5d9f0fc267d7",
   "metadata": {},
   "outputs": [
    {
     "name": "stdout",
     "output_type": "stream",
     "text": [
      "Count: 6\n",
      "Sum: 505\n",
      "Average: 84.16666666666667\n",
      "Highest: ('Eve', 95)\n",
      "Lowest: ('Charlie', 75)\n"
     ]
    }
   ],
   "source": [
    "grades = [g for _, g in valid_entries]\n",
    "\n",
    "count = len(grades)\n",
    "total = sum(grades)\n",
    "average = total / count\n",
    "highest = max(valid_entries, key=lambda x: x[1])\n",
    "lowest = min(valid_entries, key=lambda x: x[1])\n",
    "\n",
    "print(\"Count:\", count)\n",
    "print(\"Sum:\", total)\n",
    "print(\"Average:\", average)\n",
    "print(\"Highest:\", highest)\n",
    "print(\"Lowest:\", lowest)\n"
   ]
  },
  {
   "cell_type": "code",
   "execution_count": 11,
   "id": "55bd8ca4-ca95-48be-9d34-07403afbca8e",
   "metadata": {},
   "outputs": [],
   "source": [
    "def perform_operations(numbers):\n",
    "    total = 0\n",
    "    product = 1\n",
    "    for num in numbers:\n",
    "        total *= num\n",
    "        product += num\n",
    "    average = total / len(numbers)\n",
    "    return total, product, average\n"
   ]
  },
  {
   "cell_type": "code",
   "execution_count": null,
   "id": "85d355ea-497f-4c52-897b-455f6d1bc0e9",
   "metadata": {},
   "outputs": [],
   "source": []
  }
 ],
 "metadata": {
  "kernelspec": {
   "display_name": "Python 3 (ipykernel)",
   "language": "python",
   "name": "python3"
  },
  "language_info": {
   "codemirror_mode": {
    "name": "ipython",
    "version": 3
   },
   "file_extension": ".py",
   "mimetype": "text/x-python",
   "name": "python",
   "nbconvert_exporter": "python",
   "pygments_lexer": "ipython3",
   "version": "3.13.5"
  }
 },
 "nbformat": 4,
 "nbformat_minor": 5
}
