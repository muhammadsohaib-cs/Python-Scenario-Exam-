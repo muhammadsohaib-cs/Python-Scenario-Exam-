{
 "cells": [
  {
   "cell_type": "code",
   "execution_count": 1,
   "id": "7d48ed04-5098-402d-9b51-300a76bae569",
   "metadata": {},
   "outputs": [],
   "source": [
    "class Vehicle:\n",
    "    def __init__(self, make, model, year):\n",
    "        self.make = make\n",
    "        self.model = model\n",
    "        self.year = year\n",
    "    \n",
    "    def start_engine(self):\n",
    "        return f\"{self.year} {self.make} {self.model}'s engine started.\"\n",
    "    \n",
    "    def stop_engine(self):\n",
    "        return f\"{self.year} {self.make} {self.model}'s engine stopped.\"\n",
    "    \n",
    "    def display_info(self):\n",
    "        return f\"Vehicle: {self.year} {self.make} {self.model}\"\n"
   ]
  },
  {
   "cell_type": "code",
   "execution_count": 2,
   "id": "8e0860a4-0f59-4047-87ab-891243fd6852",
   "metadata": {},
   "outputs": [],
   "source": [
    "class Car(Vehicle):\n",
    "    def __init__(self, make, model, year, doors):\n",
    "        super().__init__(make, model, year)\n",
    "        self.doors = doors\n",
    "    \n",
    "    def display_info(self):\n",
    "        return f\"Car: {self.year} {self.make} {self.model}, Doors: {self.doors}\"\n",
    "    \n",
    "    def accelerate(self):\n",
    "        return f\"{self.make} {self.model} is accelerating!\"\n"
   ]
  },
  {
   "cell_type": "code",
   "execution_count": 3,
   "id": "d53b525f-b530-4b74-a8e8-6a5f3bc1534a",
   "metadata": {},
   "outputs": [],
   "source": [
    "class Truck(Vehicle):\n",
    "    def __init__(self, make, model, year, cargo_capacity):\n",
    "        super().__init__(make, model, year)\n",
    "        self.cargo_capacity = cargo_capacity\n",
    "    \n",
    "    def display_info(self):\n",
    "        return f\"Truck: {self.year} {self.make} {self.model}, Cargo Capacity: {self.cargo_capacity} tons\"\n",
    "    \n",
    "    def load_cargo(self, weight):\n",
    "        if weight <= self.cargo_capacity:\n",
    "            return f\"Loaded {weight} tons of cargo.\"\n",
    "        else:\n",
    "            return f\"Cannot load {weight} tons. Max capacity is {self.cargo_capacity} tons.\"\n"
   ]
  },
  {
   "cell_type": "code",
   "execution_count": 4,
   "id": "71aa86c2-e648-49d0-b458-21ad43c9cd18",
   "metadata": {},
   "outputs": [],
   "source": [
    "class Motorcycle(Vehicle):\n",
    "    def __init__(self, make, model, year, drive_type):\n",
    "        super().__init__(make, model, year)\n",
    "        self.drive_type = drive_type\n",
    "    \n",
    "    def display_info(self):\n",
    "        return f\"Motorcycle: {self.year} {self.make} {self.model}, Drive Type: {self.drive_type}\"\n",
    "    \n",
    "    def wheelie(self):\n",
    "        return f\"{self.make} {self.model} is doing a wheelie!\"\n"
   ]
  },
  {
   "cell_type": "code",
   "execution_count": 6,
   "id": "f0a5bfd6-d401-4e6c-b539-9dca04274ec1",
   "metadata": {},
   "outputs": [
    {
     "name": "stdout",
     "output_type": "stream",
     "text": [
      "Car: 2022 Toyota Corolla, Doors: 4\n",
      "2022 Toyota Corolla's engine started.\n",
      "Toyota Corolla is accelerating!\n",
      "2022 Toyota Corolla's engine stopped.\n",
      "---------------------\n",
      "Truck: 2021 Volvo FH16, Cargo Capacity: 25 tons\n",
      "2021 Volvo FH16's engine started.\n",
      "Loaded 20 tons of cargo.\n",
      "Cannot load 30 tons. Max capacity is 25 tons.\n",
      "----------------------\n",
      "Motorcycle: 2023 Yamaha R1, Drive Type: Chain\n",
      "2023 Yamaha R1's engine started.\n",
      "Yamaha R1 is doing a wheelie!\n",
      "2023 Yamaha R1's engine stopped.\n"
     ]
    }
   ],
   "source": [
    "car = Car(\"Toyota\", \"Corolla\", 2022, 4)\n",
    "truck = Truck(\"Volvo\", \"FH16\", 2021, 25)\n",
    "bike = Motorcycle(\"Yamaha\", \"R1\", 2023, \"Chain\")\n",
    "\n",
    "print(car.display_info())\n",
    "print(car.start_engine())\n",
    "print(car.accelerate())\n",
    "print(car.stop_engine())\n",
    "print(\"---------------------\")\n",
    "\n",
    "print(truck.display_info())\n",
    "print(truck.start_engine())\n",
    "print(truck.load_cargo(20))\n",
    "print(truck.load_cargo(30))  \n",
    "print(\"----------------------\")\n",
    "\n",
    "print(bike.display_info())\n",
    "print(bike.start_engine())\n",
    "print(bike.wheelie())\n",
    "print(bike.stop_engine())\n"
   ]
  },
  {
   "cell_type": "code",
   "execution_count": null,
   "id": "3b20aac7-1ae0-4119-8423-3b31e280121f",
   "metadata": {},
   "outputs": [],
   "source": []
  }
 ],
 "metadata": {
  "kernelspec": {
   "display_name": "Python 3 (ipykernel)",
   "language": "python",
   "name": "python3"
  },
  "language_info": {
   "codemirror_mode": {
    "name": "ipython",
    "version": 3
   },
   "file_extension": ".py",
   "mimetype": "text/x-python",
   "name": "python",
   "nbconvert_exporter": "python",
   "pygments_lexer": "ipython3",
   "version": "3.13.5"
  }
 },
 "nbformat": 4,
 "nbformat_minor": 5
}
