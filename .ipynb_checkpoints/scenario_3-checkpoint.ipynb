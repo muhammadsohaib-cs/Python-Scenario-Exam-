{
 "cells": [
  {
   "cell_type": "code",
   "execution_count": 1,
   "id": "85580cde-8041-422a-afa7-5930447a539d",
   "metadata": {},
   "outputs": [],
   "source": [
    "inventory = []\n",
    "\n",
    "def add_book(title):\n",
    "    inventory.append({\"title\": title, \"borrowed\": False, \"days_late\": 0})\n",
    "\n",
    "def remove_book(title):\n",
    "    global inventory\n",
    "    inventory = [book for book in inventory if book[\"title\"] != title]\n",
    "\n",
    "def display_inventory():\n",
    "    return [book for book in inventory]\n",
    "\n",
    "\n"
   ]
  },
  {
   "cell_type": "code",
   "execution_count": 2,
   "id": "8a67a747-e4e8-43df-9d99-3873d158d7a7",
   "metadata": {},
   "outputs": [],
   "source": [
    "def borrow_book(title):\n",
    "    for book in inventory:\n",
    "        if book[\"title\"] == title and not book[\"borrowed\"]:\n",
    "            book[\"borrowed\"] = True\n",
    "            return f\"Book '{title}' borrowed successfully.\"\n",
    "    return f\"Book '{title}' is not available.\"\n",
    "\n",
    "def return_book(title, days_late=0):\n",
    "    for book in inventory:\n",
    "        if book[\"title\"] == title and book[\"borrowed\"]:\n",
    "            book[\"borrowed\"] = False\n",
    "            book[\"days_late\"] = days_late\n",
    "            return f\"Book '{title}' returned successfully.\"\n",
    "    return f\"Book '{title}' was not borrowed.\"\n",
    "\n",
    "def check_availability(title):\n",
    "    for book in inventory:\n",
    "        if book[\"title\"] == title and not book[\"borrowed\"]:\n",
    "            return True\n",
    "    return False\n"
   ]
  },
  {
   "cell_type": "code",
   "execution_count": 3,
   "id": "1791ee41-1e23-4f29-93eb-770fac9c1d95",
   "metadata": {},
   "outputs": [],
   "source": [
    "def calculate_fine(days_late):\n",
    " \n",
    "    return 0 if days_late == 0 else round(2 * (days_late ** 0.5), 2)\n"
   ]
  },
  {
   "cell_type": "code",
   "execution_count": 4,
   "id": "cca59f7b-f329-429a-aafa-02f55f622fc7",
   "metadata": {},
   "outputs": [],
   "source": [
    "get_overdue_books = lambda: [book for book in inventory if book[\"days_late\"] > 0]\n"
   ]
  },
  {
   "cell_type": "code",
   "execution_count": 5,
   "id": "28dc5bf2-fbc0-4680-8a0f-36d4fe5bf3ab",
   "metadata": {},
   "outputs": [],
   "source": [
    "def borrowed_books_report():\n",
    "    return [book[\"title\"] for book in inventory if book[\"borrowed\"]]\n"
   ]
  },
  {
   "cell_type": "code",
   "execution_count": 7,
   "id": "cc8937f2-1c1e-4ac0-bf69-cfba889a06e1",
   "metadata": {},
   "outputs": [
    {
     "name": "stdout",
     "output_type": "stream",
     "text": [
      "Initial Inventory: [{'title': 'Python Basics', 'borrowed': False, 'days_late': 5}, {'title': 'Data Science 101', 'borrowed': False, 'days_late': 0}, {'title': 'Machine Learning', 'borrowed': False, 'days_late': 0}, {'title': 'Python Basics', 'borrowed': False, 'days_late': 0}, {'title': 'Data Science 101', 'borrowed': False, 'days_late': 0}, {'title': 'Machine Learning', 'borrowed': False, 'days_late': 0}]\n",
      "Book 'Python Basics' borrowed successfully.\n",
      "After Borrowing: [{'title': 'Python Basics', 'borrowed': True, 'days_late': 5}, {'title': 'Data Science 101', 'borrowed': False, 'days_late': 0}, {'title': 'Machine Learning', 'borrowed': False, 'days_late': 0}, {'title': 'Python Basics', 'borrowed': False, 'days_late': 0}, {'title': 'Data Science 101', 'borrowed': False, 'days_late': 0}, {'title': 'Machine Learning', 'borrowed': False, 'days_late': 0}]\n",
      "Book 'Python Basics' returned successfully.\n",
      "After Returning: [{'title': 'Python Basics', 'borrowed': False, 'days_late': 5}, {'title': 'Data Science 101', 'borrowed': False, 'days_late': 0}, {'title': 'Machine Learning', 'borrowed': False, 'days_late': 0}, {'title': 'Python Basics', 'borrowed': False, 'days_late': 0}, {'title': 'Data Science 101', 'borrowed': False, 'days_late': 0}, {'title': 'Machine Learning', 'borrowed': False, 'days_late': 0}]\n",
      "Is 'Data Science 101' available? True\n",
      "Overdue Book: Python Basics, Fine: 4.47\n",
      "Borrowed Books Report: []\n"
     ]
    }
   ],
   "source": [
    "add_book(\"Python Basics\")\n",
    "add_book(\"Data Science 101\")\n",
    "add_book(\"Machine Learning\")\n",
    "\n",
    "print(\"Initial Inventory:\", display_inventory())\n",
    "\n",
    "\n",
    "print(borrow_book(\"Python Basics\"))\n",
    "print(\"After Borrowing:\", display_inventory())\n",
    "\n",
    "print(return_book(\"Python Basics\", days_late=5))\n",
    "print(\"After Returning:\", display_inventory())\n",
    "\n",
    "print(\"Is 'Data Science 101' available?\", check_availability(\"Data Science 101\"))\n",
    "\n",
    "for book in get_overdue_books():\n",
    "    print(f\"Overdue Book: {book['title']}, Fine: {calculate_fine(book['days_late'])}\")\n",
    "\n",
    "print(\"Borrowed Books Report:\", borrowed_books_report())\n"
   ]
  },
  {
   "cell_type": "code",
   "execution_count": null,
   "id": "056dbde3-cfac-4321-bd4e-def371f3a198",
   "metadata": {},
   "outputs": [],
   "source": []
  }
 ],
 "metadata": {
  "kernelspec": {
   "display_name": "Python 3 (ipykernel)",
   "language": "python",
   "name": "python3"
  },
  "language_info": {
   "codemirror_mode": {
    "name": "ipython",
    "version": 3
   },
   "file_extension": ".py",
   "mimetype": "text/x-python",
   "name": "python",
   "nbconvert_exporter": "python",
   "pygments_lexer": "ipython3",
   "version": "3.13.5"
  }
 },
 "nbformat": 4,
 "nbformat_minor": 5
}
